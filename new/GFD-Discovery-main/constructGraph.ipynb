{
 "cells": [
  {
   "cell_type": "code",
   "execution_count": 2,
   "metadata": {},
   "outputs": [
    {
     "name": "stdout",
     "output_type": "stream",
     "text": [
      "   nodeID nodeType\n",
      "0       1  product\n",
      "1       2  product\n",
      "2       3   people\n",
      "3       4  product\n",
      "4       5   people\n",
      "5       6   people\n",
      "6       7     book\n",
      "7       8   people\n",
      "8       9     book\n",
      "   edgeID  sourceID  targetID edgeType\n",
      "0       1         3         1   create\n",
      "1       2         3         4   create\n",
      "2       3         3         9    write\n",
      "3       4         2         8     help\n",
      "4       5         6         2   create\n",
      "5       6         7         6     help\n",
      "6       7         5         9    write\n",
      "7       8         5         7    write\n"
     ]
    }
   ],
   "source": [
    "import Graph as gh\n",
    "import pandas as pd\n",
    "\n",
    "nodeData = pd.read_csv('dataset/diy/node.csv')\n",
    "edgeData = pd.read_csv('dataset/diy/edge.csv')\n",
    "print(nodeData)\n",
    "print(edgeData)"
   ]
  },
  {
   "cell_type": "code",
   "execution_count": 3,
   "metadata": {
    "tags": []
   },
   "outputs": [
    {
     "name": "stdout",
     "output_type": "stream",
     "text": [
      "[1 product, 2 people, 3 people, 4 product, 5 prize, 6 people, 7 product, 8 people, 9 book, 10 cat, 11 people, 12 book]\n",
      "['create', 'keep', 'trust', 'write', 'attack', 'win', 'like', 'attract', 'father', 'son', 'help']\n",
      "['product', 'people', 'prize', 'book', 'cat']\n"
     ]
    }
   ],
   "source": [
    "g = gh.Graph()\n",
    "for i in range(nodeData.shape[0]):\n",
    "    row = nodeData.loc[i]\n",
    "    g.add_node(row['nodeType'])\n",
    "for i in range(edgeData.shape[0]):\n",
    "    row = edgeData.loc[i]\n",
    "    g.add_edge(row['sourceID'],row['targetID'],row['edgeType'])\n",
    "print(g.nodes)\n",
    "print(g.relations)\n",
    "print(g.types)"
   ]
  },
  {
   "cell_type": "code",
   "execution_count": null,
   "metadata": {},
   "outputs": [],
   "source": []
  }
 ],
 "metadata": {
  "kernelspec": {
   "display_name": "Python 3",
   "language": "python",
   "name": "python3"
  },
  "language_info": {
   "codemirror_mode": {
    "name": "ipython",
    "version": 3
   },
   "file_extension": ".py",
   "mimetype": "text/x-python",
   "name": "python",
   "nbconvert_exporter": "python",
   "pygments_lexer": "ipython3",
   "version": "3.6.9"
  }
 },
 "nbformat": 4,
 "nbformat_minor": 2
}
